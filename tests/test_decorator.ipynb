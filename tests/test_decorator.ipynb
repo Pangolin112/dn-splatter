{
 "cells": [
  {
   "cell_type": "markdown",
   "id": "1c0e20da",
   "metadata": {},
   "source": [
    "Decorator: Adds extra functionality around an existing function\n",
    "1. Takes a function as input\n",
    "2. Defines a new function wrapper that adds behavior\n",
    "3. Returns the new function wrapper\n",
    "4. Python replaces the original function with the wrapped version"
   ]
  },
  {
   "cell_type": "code",
   "execution_count": 1,
   "id": "6a540c8c",
   "metadata": {},
   "outputs": [
    {
     "name": "stdout",
     "output_type": "stream",
     "text": [
      "<b><i>Hello, World</i></b>\n"
     ]
    }
   ],
   "source": [
    "def bold(func):\n",
    "    def wrapper(*args, **kwargs):\n",
    "        result = func(*args, **kwargs)\n",
    "        return f\"<b>{result}</b>\"\n",
    "    return wrapper\n",
    "\n",
    "def italic(func):\n",
    "    def wrapper(*args, **kwargs):\n",
    "        result = func(*args, **kwargs)\n",
    "        return f\"<i>{result}</i>\"\n",
    "    return wrapper\n",
    "\n",
    "@bold\n",
    "@italic\n",
    "def greet(name):\n",
    "    return f\"Hello, {name}\"\n",
    "\n",
    "print(greet(\"World\"))  # Output: <b><i>Hello, World</i></b>"
   ]
  },
  {
   "cell_type": "code",
   "execution_count": 14,
   "id": "39d179dc",
   "metadata": {},
   "outputs": [
    {
     "name": "stdout",
     "output_type": "stream",
     "text": [
      "Execution time: 1.1920928955078125e-06 seconds\n"
     ]
    },
    {
     "data": {
      "text/plain": [
       "\"Qianru, it's your birthday, you are male\""
      ]
     },
     "execution_count": 14,
     "metadata": {},
     "output_type": "execute_result"
    }
   ],
   "source": [
    "def print_birthday(func):\n",
    "    def wrapper(*args, **kwargs):\n",
    "        result = func(*args, **kwargs)\n",
    "        return f\"{result}, it's your birthday\"\n",
    "    return wrapper\n",
    "\n",
    "def print_gender(func):\n",
    "    def wrapper(*args, **kwargs):\n",
    "        result = func(*args, **kwargs)\n",
    "        return f\"{result}, you are male\"\n",
    "    return wrapper\n",
    "\n",
    "import time\n",
    "def measure_time(func):\n",
    "    def wrapper(*args, **kwargs):\n",
    "        t_0 = time.time()\n",
    "        result = func(*args, **kwargs)\n",
    "        t_1 = time.time()\n",
    "        print(f\"Execution time: {t_1 - t_0} seconds\")\n",
    "        return result\n",
    "    return wrapper\n",
    "\n",
    "@measure_time\n",
    "@print_gender\n",
    "@print_birthday\n",
    "def print_name(name):\n",
    "    return name\n",
    "\n",
    "print_name(\"Qianru\")"
   ]
  },
  {
   "cell_type": "code",
   "execution_count": null,
   "id": "b3ac92e0",
   "metadata": {},
   "outputs": [],
   "source": []
  }
 ],
 "metadata": {
  "kernelspec": {
   "display_name": "seva_studio",
   "language": "python",
   "name": "python3"
  },
  "language_info": {
   "codemirror_mode": {
    "name": "ipython",
    "version": 3
   },
   "file_extension": ".py",
   "mimetype": "text/x-python",
   "name": "python",
   "nbconvert_exporter": "python",
   "pygments_lexer": "ipython3",
   "version": "3.10.18"
  }
 },
 "nbformat": 4,
 "nbformat_minor": 5
}
